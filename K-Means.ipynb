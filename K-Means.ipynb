{
 "cells": [
  {
   "cell_type": "code",
   "execution_count": 290,
   "metadata": {},
   "outputs": [
    {
     "data": {
      "text/plain": [
       "res182: org.apache.spark.sql.SparkSession = org.apache.spark.sql.SparkSession@5db0a86\n"
      ]
     },
     "execution_count": 290,
     "metadata": {},
     "output_type": "execute_result"
    }
   ],
   "source": [
    "spark"
   ]
  },
  {
   "cell_type": "code",
   "execution_count": 291,
   "metadata": {},
   "outputs": [
    {
     "data": {
      "text/plain": [
       "res183: String = 2.4.4\n"
      ]
     },
     "execution_count": 291,
     "metadata": {},
     "output_type": "execute_result"
    }
   ],
   "source": [
    "spark.version"
   ]
  },
  {
   "cell_type": "code",
   "execution_count": 292,
   "metadata": {},
   "outputs": [
    {
     "data": {
      "text/plain": [
       "import org.apache.spark.SparkContext\r\n",
       "import org.apache.spark.SparkConf\n"
      ]
     },
     "execution_count": 292,
     "metadata": {},
     "output_type": "execute_result"
    }
   ],
   "source": [
    "import org.apache.spark.SparkContext\n",
    "import org.apache.spark.SparkConf"
   ]
  },
  {
   "cell_type": "code",
   "execution_count": 293,
   "metadata": {},
   "outputs": [
    {
     "data": {
      "text/plain": [
       "conf: org.apache.spark.SparkConf = org.apache.spark.SparkConf@4a589163\r\n",
       "sc: org.apache.spark.SparkContext = org.apache.spark.SparkContext@4fb691b0\n"
      ]
     },
     "execution_count": 293,
     "metadata": {},
     "output_type": "execute_result"
    }
   ],
   "source": [
    "val conf = new SparkConf().setMaster(\"local\")\n",
    "conf.set(\"spark.serializer\", \"org.apache.spark.serializer.KryoSerializer\")\n",
    "val sc = new SparkContext(conf)"
   ]
  },
  {
   "cell_type": "code",
   "execution_count": 294,
   "metadata": {},
   "outputs": [
    {
     "data": {
      "text/plain": [
       "iterations: Int = 20\r\n",
       "dataset_path: String = D:/BigDataMining/Lab2/data.txt\r\n",
       "centroids1_path: String = D:/BigDataMining/Lab2/c1.txt\r\n",
       "centroids2_path: String = D:/BigDataMining/Lab2/c2.txt\r\n",
       "euclidean_distance: Boolean = true\n"
      ]
     },
     "execution_count": 294,
     "metadata": {},
     "output_type": "execute_result"
    }
   ],
   "source": [
    "val iterations = 20 // determines the number of iterations\n",
    "val dataset_path = \"D:/BigDataMining/Lab2/data.txt\"\n",
    "val centroids1_path = \"D:/BigDataMining/Lab2/c1.txt\"\n",
    "val centroids2_path = \"D:/BigDataMining/Lab2/c2.txt\"\n",
    "var euclidean_distance = true"
   ]
  },
  {
   "cell_type": "code",
   "execution_count": 295,
   "metadata": {},
   "outputs": [
    {
     "data": {
      "text/plain": [
       "data: org.apache.spark.rdd.RDD[String] = D:/BigDataMining/Lab2/data.txt MapPartitionsRDD[1] at textFile at <console>:46\r\n",
       "centroids1: org.apache.spark.rdd.RDD[String] = D:/BigDataMining/Lab2/c1.txt MapPartitionsRDD[3] at textFile at <console>:48\r\n",
       "centroids2: org.apache.spark.rdd.RDD[String] = D:/BigDataMining/Lab2/c2.txt MapPartitionsRDD[5] at textFile at <console>:49\n"
      ]
     },
     "execution_count": 295,
     "metadata": {},
     "output_type": "execute_result"
    }
   ],
   "source": [
    "// read in files first\n",
    "// data RDD\n",
    "val data = sc.textFile(dataset_path)\n",
    "// centroids RDD\n",
    "val centroids1 = sc.textFile(centroids1_path)\n",
    "val centroids2 = sc.textFile(centroids2_path)"
   ]
  },
  {
   "cell_type": "code",
   "execution_count": 296,
   "metadata": {},
   "outputs": [
    {
     "data": {
      "text/plain": [
       "dataRdd: org.apache.spark.rdd.RDD[Array[Float]] = MapPartitionsRDD[6] at map at <console>:42\r\n",
       "centroidsList1: Array[Array[Float]] = Array(Array(0.0, 0.64, 0.64, 0.0, 0.32, 0.0, 0.0, 0.0, 0.0, 0.0, 0.0, 0.64, 0.0, 0.0, 0.0, 0.32, 0.0, 1.29, 1.93, 0.0, 0.96, 0.0, 0.0, 0.0, 0.0, 0.0, 0.0, 0.0, 0.0, 0.0, 0.0, 0.0, 0.0, 0.0, 0.0, 0.0, 0.0, 0.0, 0.0, 0.0, 0.0, 0.0, 0.0, 0.0, 0.0, 0.0, 0.0, 0.0, 0.0, 0.0, 0.0, 0.778, 0.0, 0.0, 3.756, 61.0, 278.0, 1.0), Array(0.21, 0.28, 0.5, 0.0, 0.14, 0.28, 0.21, 0.07, 0.0, 0.94, 0.21, 0.79, 0.65, 0.21, 0.14, 0.14, 0.07, 0.28, 3.47, 0.0, 1.59, 0.0, 0.43, 0.43, 0.0, 0.0, 0.0, 0.0, 0.0, 0.0, 0.0, 0.0, 0.0, 0.0, 0.0, 0.0, 0.07, 0.0, 0.0, 0.0, 0.0, 0.0, 0.0, 0.0, 0.0, 0.0, 0.0, 0.0, 0.0, 0.132, 0.0, 0.372, 0.18, 0.048, 5.114, 101.0, 1028.0, 1.0), Array(0.06, 0.0,..."
      ]
     },
     "execution_count": 296,
     "metadata": {},
     "output_type": "execute_result"
    }
   ],
   "source": [
    "val dataRdd = data.map(line => line.split(\" \").map(_.toFloat))\n",
    "val centroidsList1 = centroids1.map(line => line.split(\" \").map(_.toFloat)).collect()\n",
    "val centroidsList2 = centroids2.map(line => line.split(\" \").map(_.toFloat)).collect()\n",
    "\n",
    "//var centroids_broadcast = sc.broadcast(centroidsList1)\n",
    "//centroids_broadcast.destroy()\n"
   ]
  },
  {
   "cell_type": "code",
   "execution_count": 297,
   "metadata": {},
   "outputs": [
    {
     "data": {
      "text/plain": [
       "defined class k_means\n"
      ]
     },
     "execution_count": 297,
     "metadata": {},
     "output_type": "execute_result"
    }
   ],
   "source": [
    "// Assign point p to the cluster with the closest centroid\n",
    "// and calculate the cost\n",
    "// return index that indicatse which centroid point belongs and its cost\n",
    "// ex) (3, 12.345) meaning point belongs to cluster 3 and its cost is 12.345\n",
    "\n",
    "class k_means extends Serializable {\n",
    "\n",
    "//def assign_to_centroids(row: Array[Float], centroids: Array[Array[Float]]): \n",
    "//    Tuple2[Int, Float] = \n",
    "    val euclidean_assign_to_centroids: (Array[Float], org.apache.spark.broadcast.Broadcast[Array[Array[Float]]]) \n",
    "    => Tuple2[Int, Float]\n",
    "    = (row: Array[Float], centroids_broadcast: org.apache.spark.broadcast.Broadcast[Array[Array[Float]]]) => \n",
    "    { \n",
    "        // calculate min distance first\n",
    "        // initialize distances between point and centroids with 0's\n",
    "        var euclidean_distances = Array.fill[Float](10)(0)\n",
    "        for (centroid_index <- 0 until centroids_broadcast.value.length){\n",
    "            var euclidean_distance = 0.0\n",
    "            // calculate Euclidean distance between point and centroid\n",
    "            for(index <- 0 until row.length){\n",
    "                // square of (a-b)\n",
    "                euclidean_distance += scala.math.pow((row(index) - centroids_broadcast.value(centroid_index)(index)), 2)\n",
    "            }\n",
    "            // store distance between point and each centroid in eucliean_distances array\n",
    "            euclidean_distances(centroid_index) = scala.math.sqrt(euclidean_distance).toFloat\n",
    "        }\n",
    "        // get the index of min distance, that is clustered point \n",
    "        val clustered_point = euclidean_distances.zipWithIndex.minBy(_._1)._2\n",
    "        // calculate cost function\n",
    "        val cost = scala.math.pow(euclidean_distances(clustered_point), 2)\n",
    "        val result = (clustered_point, cost.toFloat)\n",
    "\n",
    "        // return Tuple2[Int, Float] Int: cluster the point belongs, Float: cost\n",
    "        result\n",
    "    }\n",
    "    \n",
    "    val manhattan_assign_to_centroids: (Array[Float], org.apache.spark.broadcast.Broadcast[Array[Array[Float]]]) \n",
    "    => Tuple2[Int, Float]\n",
    "    = (row: Array[Float], centroids_broadcast: org.apache.spark.broadcast.Broadcast[Array[Array[Float]]]) => \n",
    "    { \n",
    "        // calculate min distance first\n",
    "        // initialize distances between point and centroids with 0's\n",
    "        var manhattan_distances = Array.fill[Float](10)(0)\n",
    "        for (centroid_index <- 0 until centroids_broadcast.value.length){\n",
    "            var manhattan_distance = 0.0\n",
    "            // calculate Euclidean distance between point and centroid\n",
    "            for(index <- 0 until row.length){\n",
    "                // square of (a-b)\n",
    "                manhattan_distance += scala.math.abs(row(index) - centroids_broadcast.value(centroid_index)(index))\n",
    "            }\n",
    "            // store distance between point and each centroid in eucliean_distances array\n",
    "            manhattan_distances(centroid_index) = manhattan_distance.toFloat\n",
    "        }\n",
    "        // get the index of min distance, that is clustered point \n",
    "        val clustered_point = manhattan_distances.zipWithIndex.minBy(_._1)._2\n",
    "        // calculate cost function\n",
    "        val cost = manhattan_distances(clustered_point)\n",
    "        val result = (clustered_point, cost.toFloat)\n",
    "\n",
    "        // return Tuple2[Int, Float] Int: cluster the point belongs, Float: cost\n",
    "        result\n",
    "    }\n",
    "}\n",
    "/*\n",
    "val assign_to_centroids: (Array[Float], Array[Array[Float]]) => Tuple2[Int, Float]\n",
    "    = (row: Array[Float], centroids: Array[Array[Float]]) => \n",
    "    { \n",
    "        // calculate min distance first\n",
    "        // initialize distances between point and centroids with 0's\n",
    "        var euclidean_distances = Array.fill[Float](10)(0)\n",
    "        for (centroid_index <- 0 until centroids.length){\n",
    "            var euclidean_distance = 0.0\n",
    "            // calculate Euclidean distance between point and centroid\n",
    "            for(index <- 0 until row.length){\n",
    "                // square of (a-b)\n",
    "                euclidean_distance += scala.math.pow((row(index) - centroids(centroid_index)(index)), 2)\n",
    "            }\n",
    "            // store distance between point and each centroid in eucliean_distances array\n",
    "            euclidean_distances(centroid_index) = scala.math.sqrt(euclidean_distance).toFloat\n",
    "        }\n",
    "        // get the index of min distance, that is clustered point \n",
    "        val clustered_point = euclidean_distances.zipWithIndex.minBy(_._1)._2\n",
    "        // calculate cost function\n",
    "        val cost = scala.math.pow(euclidean_distances(clustered_point), 2)\n",
    "        val result = (clustered_point, cost.toFloat)\n",
    "\n",
    "        // return Tuple2[Int, Float] Int: cluster the point belongs, Float: cost\n",
    "        result\n",
    "    }\n",
    "*/"
   ]
  },
  {
   "cell_type": "code",
   "execution_count": 298,
   "metadata": {},
   "outputs": [
    {
     "data": {
      "text/plain": [
       "res184: org.apache.spark.SparkConf = org.apache.spark.SparkConf@4a589163\n"
      ]
     },
     "execution_count": 298,
     "metadata": {},
     "output_type": "execute_result"
    }
   ],
   "source": [
    "// initialize serializable classes\n",
    "conf.registerKryoClasses(Array(classOf[k_means]))"
   ]
  },
  {
   "cell_type": "code",
   "execution_count": 299,
   "metadata": {},
   "outputs": [
    {
     "data": {
      "text/plain": [
       "kmeans: (dataRDD: org.apache.spark.rdd.RDD[Array[Float]], centroids: Array[Array[Float]], iterations: Int, euclidean: Boolean)Array[Float]\n"
      ]
     },
     "execution_count": 299,
     "metadata": {},
     "output_type": "execute_result"
    }
   ],
   "source": [
    "def kmeans(dataRDD: org.apache.spark.rdd.RDD[Array[Float]], centroids: Array[Array[Float]], iterations: Int, euclidean: Boolean): \n",
    "Array[Float] = {\n",
    "    // euclidean distance\n",
    "    if (euclidean){\n",
    "        var centroid_temp = centroids\n",
    "        // initialize an array to store costs of 20 iterations\n",
    "        var euclidean_cost = Array.fill[Float](iterations)(0)\n",
    "        for (iteration <- 0 until iterations){\n",
    "            // broadcast variable\n",
    "            var centroids_broadcast = sc.broadcast(centroid_temp)\n",
    "            // return array of tuple of cluster and cost for each point\n",
    "            val clusters_costs = dataRDD.map(row => new k_means().euclidean_assign_to_centroids(row, centroids_broadcast)).collect()\n",
    "            // calculate cost for each iteration\n",
    "            for (cluster_cost <- clusters_costs){\n",
    "                euclidean_cost(iteration) += cluster_cost._2 \n",
    "            }\n",
    "            // broadcast variable\n",
    "            val cluster_list = sc.broadcast(clusters_costs)\n",
    "            // update centroids\n",
    "            for (centroid_ID <- 0 until centroids.length){\n",
    "                // row._2.toInt: index of row\n",
    "                // cluster_list.value(row._2.toInt)._1: closest centroid\n",
    "                // return (Array[float], long) Long is index\n",
    "                // filter dataRDD by its corressponding centroid\n",
    "                val filteredRDD = dataRDD.zipWithIndex.filter(row => cluster_list.value(row._2.toInt)._1 == centroid_ID).collect()\n",
    "                // calculate mean values\n",
    "                var means = Array.fill[Float](filteredRDD(0)._1.length)(0)\n",
    "                for (i <- 0 until filteredRDD(0)._1.length){\n",
    "                    // find sum of each dimension first\n",
    "                    for (row <- filteredRDD){\n",
    "                        means(i) += row._1(i)\n",
    "                    }\n",
    "                    means(i) = means(i) / filteredRDD.length\n",
    "                }\n",
    "                centroid_temp(centroid_ID) = means\n",
    "                \n",
    "            }\n",
    "            centroids_broadcast.destroy\n",
    "            cluster_list.destroy\n",
    "            \n",
    "        }\n",
    "        return euclidean_cost\n",
    "        \n",
    "    }\n",
    "    // manhattan distance\n",
    "    else{\n",
    "        var centroid_temp = centroids\n",
    "        var manhattan_cost = Array.fill[Float](iterations)(0)\n",
    "        for (iteration <- 0 until iterations){\n",
    "            // broadcast variable\n",
    "            var centroids_broadcast = sc.broadcast(centroid_temp)\n",
    "            // return array of tuple of cluster and cost for each point\n",
    "            val clusters_costs = dataRDD.map(row => new k_means().manhattan_assign_to_centroids(row, centroids_broadcast)).collect()\n",
    "            // calculate cost for each iteration\n",
    "            for (cluster_cost <- clusters_costs){\n",
    "                manhattan_cost(iteration) += cluster_cost._2 \n",
    "            }\n",
    "            // broadcast variable\n",
    "            val cluster_list = sc.broadcast(clusters_costs)\n",
    "            // update centroids\n",
    "            for (centroid_ID <- 0 until centroids.length){\n",
    "                // row._2.toInt: index of row\n",
    "                // cluster_list.value(row._2.toInt)._1: closest centroid\n",
    "                // return (Array[float], long) Long is index\n",
    "                // filter dataRDD by its corressponding centroid\n",
    "                val filteredRDD = dataRDD.zipWithIndex.filter(row => cluster_list.value(row._2.toInt)._1 == centroid_ID).collect()\n",
    "                // calculate mean values\n",
    "                var means = Array.fill[Float](filteredRDD(0)._1.length)(0)\n",
    "                for (i <- 0 until filteredRDD(0)._1.length){\n",
    "                    // find sum of each dimension first\n",
    "                    for (row <- filteredRDD){\n",
    "                        means(i) += row._1(i)\n",
    "                    }\n",
    "                    means(i) = means(i) / filteredRDD.length\n",
    "                }\n",
    "                centroid_temp(centroid_ID) = means\n",
    "                \n",
    "            }\n",
    "            centroids_broadcast.destroy\n",
    "            cluster_list.destroy\n",
    "            \n",
    "        }\n",
    "        return manhattan_cost\n",
    "        \n",
    "    }\n",
    "    \n",
    "}\n"
   ]
  },
  {
   "cell_type": "code",
   "execution_count": 300,
   "metadata": {},
   "outputs": [
    {
     "name": "stdout",
     "output_type": "stream",
     "text": [
      "Max iterations: 20, distance measure: Euclidean\n",
      "Iteration 0 6.2365952E8\n",
      "Iteration 1 5.09840704E8\n",
      "Iteration 2 4.85483936E8\n",
      "Iteration 3 4.63997408E8\n",
      "Iteration 4 4.60967776E8\n",
      "Iteration 5 4.60532096E8\n",
      "Iteration 6 4.60281856E8\n",
      "Iteration 7 4.59919968E8\n",
      "Iteration 8 4.59461088E8\n",
      "Iteration 9 4.5897456E8\n",
      "Iteration 10 4.5845568E8\n",
      "Iteration 11 4.57895456E8\n",
      "Iteration 12 4.5751136E8\n",
      "Iteration 13 4.57257792E8\n",
      "Iteration 14 4.5702544E8\n",
      "Iteration 15 4.5686288E8\n",
      "Iteration 16 4.56616288E8\n",
      "Iteration 17 4.56325248E8\n",
      "Iteration 18 4.56095552E8\n",
      "Iteration 19 4.55851264E8\n"
     ]
    },
    {
     "data": {
      "text/plain": [
       "centroidListTemp: Array[Array[Float]] = Array(Array(0.16014244, 0.13772246, 0.34355882, 0.050035585, 0.32462642, 0.12060499, 0.0886121, 0.13843422, 0.25113884, 0.35825607, 0.094092526, 0.74548006, 0.1270107, 0.09540925, 0.08295375, 0.2674022, 0.23679712, 0.13565841, 1.477794, 0.12049821, 1.0365839, 0.28900355, 0.14049824, 0.1777936, 0.72797155, 0.16686836, 0.017864764, 0.0139501775, 0.01188612, 0.023167258, 0.0088256225, 0.001494662, 0.095195726, 0.0025622777, 0.01960854, 0.0680427, 0.14195727, 0.0123487525, 0.01797153, 0.02128114, 0.04793594, 0.081316724, 0.012277579, 0.013451958, 0.06135232, 0.14565836, 0.011067616, 0.02316726, 0.075953744, 0.15696086, 0.014373664, 0.3371922, 0.11424556, 0.06230961, 6.1821394, 77.8968, 582.56586, 0.57651246), Array(0.13278267, 0.12191304, 0.27365214, ..."
      ]
     },
     "execution_count": 300,
     "metadata": {},
     "output_type": "execute_result"
    }
   ],
   "source": [
    "val centroidListTemp = centroidsList1\n",
    "val result = kmeans(dataRdd, centroidListTemp, 20, true)\n",
    "\n",
    "println(\"Max iterations: 20, distance measure: Euclidean\")\n",
    "for (i <- 0 until result.length){\n",
    "    println(\"Iteration \" + i + \" \" + result(i))\n",
    "}"
   ]
  },
  {
   "cell_type": "code",
   "execution_count": 301,
   "metadata": {},
   "outputs": [
    {
     "name": "stdout",
     "output_type": "stream",
     "text": [
      "Max iterations: 20, distance measure: Manhattan\n",
      "Iteration 0 485431.03\n",
      "Iteration 1 477389.03\n",
      "Iteration 2 474206.12\n",
      "Iteration 3 471442.94\n",
      "Iteration 4 465319.28\n",
      "Iteration 5 462667.75\n",
      "Iteration 6 446518.6\n",
      "Iteration 7 435900.0\n",
      "Iteration 8 438119.2\n",
      "Iteration 9 437519.53\n",
      "Iteration 10 436900.1\n",
      "Iteration 11 433646.22\n",
      "Iteration 12 432701.44\n",
      "Iteration 13 430970.56\n",
      "Iteration 14 429909.62\n",
      "Iteration 15 429331.66\n",
      "Iteration 16 430681.47\n",
      "Iteration 17 431801.6\n",
      "Iteration 18 432634.72\n",
      "Iteration 19 433334.12\n"
     ]
    },
    {
     "data": {
      "text/plain": [
       "centroidListTemp: Array[Array[Float]] = Array(Array(0.1374611, 0.1427461, 0.35186535, 0.1734197, 0.2809844, 0.12963729, 0.07512952, 0.15279792, 0.39518145, 0.46072537, 0.10227984, 0.5068396, 0.13818651, 0.08943004, 0.14678754, 0.25823832, 0.123626955, 0.3592747, 1.4841967, 0.22533676, 0.9222798, 0.8212435, 0.18673581, 0.1927461, 0.3910881, 0.15067355, 0.020103624, 0.020414505, 0.0060103633, 0.018082902, 0.022746116, 0.0014507772, 0.09471503, 0.0031088083, 0.10974094, 0.029430056, 0.14005181, 0.001554404, 0.021658033, 0.030414505, 0.008445595, 0.027098443, 0.0070984457, 0.011554404, 0.04041451, 0.039792743, 0.009430052, 0.030051813, 0.047378235, 0.12311915, 0.042321235, 0.30423307, 0.17210877, 0.09938342, 5.8380957, 108.17616, 1105.43, 0.6683938), Array(0.29879996, 0.14300004, 0.28139997..."
      ]
     },
     "execution_count": 301,
     "metadata": {},
     "output_type": "execute_result"
    }
   ],
   "source": [
    "val centroidListTemp = centroidsList1\n",
    "val result = kmeans(dataRdd, centroidListTemp, 20, false)\n",
    "println(\"Max iterations: 20, distance measure: Manhattan\")\n",
    "for (i <- 0 until result.length){\n",
    "    println(\"Iteration \" + i + \" \" + result(i))\n",
    "}"
   ]
  },
  {
   "cell_type": "code",
   "execution_count": 302,
   "metadata": {
    "scrolled": true
   },
   "outputs": [
    {
     "name": "stdout",
     "output_type": "stream",
     "text": [
      "Max iterations: 20, distance measure: Euclidean\n",
      "Iteration 0 4.38748608E8\n",
      "Iteration 1 2.4980408E8\n",
      "Iteration 2 1.94494464E8\n",
      "Iteration 3 1.69804416E8\n",
      "Iteration 4 1.5629504E8\n",
      "Iteration 5 1.49094368E8\n",
      "Iteration 6 1.42507952E8\n",
      "Iteration 7 1.32303768E8\n",
      "Iteration 8 1.17170712E8\n",
      "Iteration 9 1.08547072E8\n",
      "Iteration 10 1.022374E8\n",
      "Iteration 11 9.8278256E7\n",
      "Iteration 12 9.5630008E7\n",
      "Iteration 13 9.3793288E7\n",
      "Iteration 14 9.2376576E7\n",
      "Iteration 15 9.15418E7\n",
      "Iteration 16 9.10456E7\n",
      "Iteration 17 9.075248E7\n",
      "Iteration 18 9.0470064E7\n",
      "Iteration 19 9.0216304E7\n"
     ]
    },
    {
     "data": {
      "text/plain": [
       "centroidListTemp: Array[Array[Float]] = Array(Array(0.08928571, 0.23088643, 0.24967588, 0.022641996, 0.3007745, 0.079850845, 0.10706823, 0.089368895, 0.034584057, 0.19471608, 0.04306656, 0.51638836, 0.0800487, 0.03851693, 0.023235805, 0.24027808, 0.11290593, 0.16526401, 1.6708814, 0.048126787, 0.73868865, 0.023582906, 0.07014054, 0.07275675, 0.57496274, 0.30552495, 0.99994266, 0.15644294, 0.124979876, 0.12755018, 0.078158334, 0.060275376, 0.103063665, 0.060923684, 0.1246328, 0.11281409, 0.13727768, 0.014047621, 0.096362576, 0.07073435, 0.05026678, 0.16089214, 0.053895593, 0.0990591, 0.3745525, 0.20306948, 0.004520941, 0.034239817, 0.021968156, 0.13711667, 0.016120192, 0.23903295, 0.049374316, 0.03197792, 2.4822683, 17.213139, 80.87808, 0.3118187), Array(0.19, 0.0, 0.38, 0.0, 0.0, 0.19, ..."
      ]
     },
     "execution_count": 302,
     "metadata": {},
     "output_type": "execute_result"
    }
   ],
   "source": [
    "val centroidListTemp = centroidsList2\n",
    "val result = kmeans(dataRdd, centroidListTemp, 20, true)\n",
    "println(\"Max iterations: 20, distance measure: Euclidean\")\n",
    "for (i <- 0 until result.length){\n",
    "    println(\"Iteration \" + i + \" \" + result(i))\n",
    "}"
   ]
  },
  {
   "cell_type": "code",
   "execution_count": 303,
   "metadata": {},
   "outputs": [
    {
     "name": "stdout",
     "output_type": "stream",
     "text": [
      "Max iterations: 20, distance measure: Manhattan\n",
      "Iteration 0 614313.9\n",
      "Iteration 1 617247.2\n",
      "Iteration 2 619734.94\n",
      "Iteration 3 621999.56\n",
      "Iteration 4 623836.4\n",
      "Iteration 5 624444.2\n",
      "Iteration 6 625149.5\n",
      "Iteration 7 625356.3\n",
      "Iteration 8 625464.56\n",
      "Iteration 9 625568.3\n",
      "Iteration 10 625568.3\n",
      "Iteration 11 625568.3\n",
      "Iteration 12 625568.3\n",
      "Iteration 13 625568.3\n",
      "Iteration 14 625568.3\n",
      "Iteration 15 625568.3\n",
      "Iteration 16 625568.3\n",
      "Iteration 17 625568.3\n",
      "Iteration 18 625568.3\n",
      "Iteration 19 625568.3\n"
     ]
    },
    {
     "data": {
      "text/plain": [
       "centroidListTemp: Array[Array[Float]] = Array(Array(0.090335205, 0.22750147, 0.24936059, 0.022670424, 0.30014074, 0.08075212, 0.10594081, 0.08902253, 0.03467606, 0.19277471, 0.043084525, 0.51696044, 0.08104501, 0.03856902, 0.022842258, 0.23873222, 0.1137606, 0.16507336, 1.6661725, 0.048839435, 0.7350393, 0.029304227, 0.071752094, 0.07269297, 0.5797915, 0.3048001, 0.98374933, 0.15469015, 0.123952076, 0.12662536, 0.07736899, 0.05941689, 0.10311547, 0.06005351, 0.12336055, 0.11270422, 0.13913241, 0.0138478875, 0.09491267, 0.069732375, 0.05010422, 0.15883663, 0.053735223, 0.09775495, 0.36968732, 0.20621416, 0.004439437, 0.03397747, 0.023063663, 0.13769484, 0.016350701, 0.23781514, 0.049758274, 0.03230198, 2.4908764, 17.37324, 84.97606, 0.3140845), Array(0.19, 0.0, 0.38, 0.0, 0.0, 0.19, 0.0,..."
      ]
     },
     "execution_count": 303,
     "metadata": {},
     "output_type": "execute_result"
    }
   ],
   "source": [
    "val centroidListTemp = centroidsList2\n",
    "val result = kmeans(dataRdd, centroidListTemp, 20, false)\n",
    "println(\"Max iterations: 20, distance measure: Manhattan\")\n",
    "for (i <- 0 until result.length){\n",
    "    println(\"Iteration \" + i + \" \" + result(i))\n",
    "}"
   ]
  },
  {
   "cell_type": "code",
   "execution_count": 289,
   "metadata": {},
   "outputs": [],
   "source": [
    "sc.stop()"
   ]
  }
 ],
 "metadata": {
  "kernelspec": {
   "display_name": "spylon-kernel",
   "language": "scala",
   "name": "spylon-kernel"
  },
  "language_info": {
   "codemirror_mode": "text/x-scala",
   "file_extension": ".scala",
   "help_links": [
    {
     "text": "MetaKernel Magics",
     "url": "https://metakernel.readthedocs.io/en/latest/source/README.html"
    }
   ],
   "mimetype": "text/x-scala",
   "name": "scala",
   "pygments_lexer": "scala",
   "version": "0.4.1"
  }
 },
 "nbformat": 4,
 "nbformat_minor": 2
}
